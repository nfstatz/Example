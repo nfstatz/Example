{
 "cells": [
  {
   "cell_type": "markdown",
   "id": "709c2b7c",
   "metadata": {},
   "source": [
    "## Multiple Linear Regression"
   ]
  },
  {
   "cell_type": "markdown",
   "id": "077c5bff",
   "metadata": {},
   "source": [
    "## Import Libraries"
   ]
  },
  {
   "cell_type": "code",
   "execution_count": 1,
   "id": "2c9a5ec8",
   "metadata": {},
   "outputs": [],
   "source": [
    "import pandas as pd\n",
    "import numpy as np\n",
    "import matplotlib.pyplot as plt"
   ]
  },
  {
   "cell_type": "markdown",
   "id": "eed83e67",
   "metadata": {},
   "source": [
    "## Import Data"
   ]
  },
  {
   "cell_type": "code",
   "execution_count": 2,
   "id": "75f4214a",
   "metadata": {},
   "outputs": [
    {
     "data": {
      "text/html": [
       "<div>\n",
       "<style scoped>\n",
       "    .dataframe tbody tr th:only-of-type {\n",
       "        vertical-align: middle;\n",
       "    }\n",
       "\n",
       "    .dataframe tbody tr th {\n",
       "        vertical-align: top;\n",
       "    }\n",
       "\n",
       "    .dataframe thead th {\n",
       "        text-align: right;\n",
       "    }\n",
       "</style>\n",
       "<table border=\"1\" class=\"dataframe\">\n",
       "  <thead>\n",
       "    <tr style=\"text-align: right;\">\n",
       "      <th></th>\n",
       "      <th>Year</th>\n",
       "      <th>Yield</th>\n",
       "      <th>GEOID</th>\n",
       "      <th>AWC Average</th>\n",
       "      <th>CEC Average</th>\n",
       "      <th>OCD Average</th>\n",
       "      <th>EVI Average</th>\n",
       "      <th>NDVI Average</th>\n",
       "      <th>GCI Average</th>\n",
       "      <th>NDWI Average</th>\n",
       "      <th>PPT Average</th>\n",
       "      <th>MaxT Average</th>\n",
       "      <th>MeanT Average</th>\n",
       "      <th>MinT Average</th>\n",
       "      <th>vpdMax Average</th>\n",
       "      <th>vpdMin Average</th>\n",
       "    </tr>\n",
       "  </thead>\n",
       "  <tbody>\n",
       "    <tr>\n",
       "      <th>0</th>\n",
       "      <td>2010</td>\n",
       "      <td>130.0</td>\n",
       "      <td>5063</td>\n",
       "      <td>14.546161</td>\n",
       "      <td>19.094277</td>\n",
       "      <td>256.464574</td>\n",
       "      <td>0.351410</td>\n",
       "      <td>0.516680</td>\n",
       "      <td>2.728479</td>\n",
       "      <td>-0.076958</td>\n",
       "      <td>3.035817</td>\n",
       "      <td>26.840109</td>\n",
       "      <td>20.497388</td>\n",
       "      <td>14.155641</td>\n",
       "      <td>21.270887</td>\n",
       "      <td>2.055908</td>\n",
       "    </tr>\n",
       "    <tr>\n",
       "      <th>1</th>\n",
       "      <td>2010</td>\n",
       "      <td>150.0</td>\n",
       "      <td>5067</td>\n",
       "      <td>14.754726</td>\n",
       "      <td>19.042175</td>\n",
       "      <td>222.711286</td>\n",
       "      <td>0.340833</td>\n",
       "      <td>0.486366</td>\n",
       "      <td>2.523245</td>\n",
       "      <td>-0.055194</td>\n",
       "      <td>3.003970</td>\n",
       "      <td>26.779713</td>\n",
       "      <td>20.784387</td>\n",
       "      <td>14.790069</td>\n",
       "      <td>20.337962</td>\n",
       "      <td>1.731717</td>\n",
       "    </tr>\n",
       "    <tr>\n",
       "      <th>2</th>\n",
       "      <td>2010</td>\n",
       "      <td>130.0</td>\n",
       "      <td>5121</td>\n",
       "      <td>14.690079</td>\n",
       "      <td>19.121303</td>\n",
       "      <td>244.529345</td>\n",
       "      <td>0.348775</td>\n",
       "      <td>0.494331</td>\n",
       "      <td>2.662388</td>\n",
       "      <td>-0.051745</td>\n",
       "      <td>2.993533</td>\n",
       "      <td>26.222520</td>\n",
       "      <td>20.029503</td>\n",
       "      <td>13.837489</td>\n",
       "      <td>19.318879</td>\n",
       "      <td>1.254584</td>\n",
       "    </tr>\n",
       "    <tr>\n",
       "      <th>3</th>\n",
       "      <td>2010</td>\n",
       "      <td>166.0</td>\n",
       "      <td>5093</td>\n",
       "      <td>14.101840</td>\n",
       "      <td>20.899450</td>\n",
       "      <td>230.774988</td>\n",
       "      <td>0.333715</td>\n",
       "      <td>0.463979</td>\n",
       "      <td>2.525566</td>\n",
       "      <td>-0.065515</td>\n",
       "      <td>2.860128</td>\n",
       "      <td>27.062886</td>\n",
       "      <td>21.059436</td>\n",
       "      <td>15.056977</td>\n",
       "      <td>21.541121</td>\n",
       "      <td>2.095595</td>\n",
       "    </tr>\n",
       "    <tr>\n",
       "      <th>4</th>\n",
       "      <td>2010</td>\n",
       "      <td>143.0</td>\n",
       "      <td>5095</td>\n",
       "      <td>14.654235</td>\n",
       "      <td>20.037244</td>\n",
       "      <td>246.662318</td>\n",
       "      <td>0.367096</td>\n",
       "      <td>0.518080</td>\n",
       "      <td>2.834970</td>\n",
       "      <td>-0.051252</td>\n",
       "      <td>2.693002</td>\n",
       "      <td>27.435930</td>\n",
       "      <td>21.460487</td>\n",
       "      <td>15.486050</td>\n",
       "      <td>22.161051</td>\n",
       "      <td>2.167383</td>\n",
       "    </tr>\n",
       "    <tr>\n",
       "      <th>...</th>\n",
       "      <td>...</td>\n",
       "      <td>...</td>\n",
       "      <td>...</td>\n",
       "      <td>...</td>\n",
       "      <td>...</td>\n",
       "      <td>...</td>\n",
       "      <td>...</td>\n",
       "      <td>...</td>\n",
       "      <td>...</td>\n",
       "      <td>...</td>\n",
       "      <td>...</td>\n",
       "      <td>...</td>\n",
       "      <td>...</td>\n",
       "      <td>...</td>\n",
       "      <td>...</td>\n",
       "      <td>...</td>\n",
       "    </tr>\n",
       "    <tr>\n",
       "      <th>8859</th>\n",
       "      <td>2020</td>\n",
       "      <td>162.2</td>\n",
       "      <td>55117</td>\n",
       "      <td>16.245889</td>\n",
       "      <td>27.581528</td>\n",
       "      <td>404.975714</td>\n",
       "      <td>0.372817</td>\n",
       "      <td>0.553292</td>\n",
       "      <td>3.119724</td>\n",
       "      <td>0.002781</td>\n",
       "      <td>3.326646</td>\n",
       "      <td>17.271363</td>\n",
       "      <td>12.294380</td>\n",
       "      <td>7.317488</td>\n",
       "      <td>11.202002</td>\n",
       "      <td>0.819337</td>\n",
       "    </tr>\n",
       "    <tr>\n",
       "      <th>8860</th>\n",
       "      <td>2020</td>\n",
       "      <td>150.8</td>\n",
       "      <td>55139</td>\n",
       "      <td>15.951065</td>\n",
       "      <td>29.215066</td>\n",
       "      <td>407.824897</td>\n",
       "      <td>0.360200</td>\n",
       "      <td>0.540196</td>\n",
       "      <td>3.171092</td>\n",
       "      <td>-0.005588</td>\n",
       "      <td>3.081543</td>\n",
       "      <td>17.825263</td>\n",
       "      <td>12.678469</td>\n",
       "      <td>7.531764</td>\n",
       "      <td>12.746860</td>\n",
       "      <td>1.220882</td>\n",
       "    </tr>\n",
       "    <tr>\n",
       "      <th>8861</th>\n",
       "      <td>2020</td>\n",
       "      <td>125.3</td>\n",
       "      <td>55029</td>\n",
       "      <td>17.316416</td>\n",
       "      <td>24.363932</td>\n",
       "      <td>464.062694</td>\n",
       "      <td>0.372681</td>\n",
       "      <td>0.565959</td>\n",
       "      <td>3.166413</td>\n",
       "      <td>0.013161</td>\n",
       "      <td>3.263782</td>\n",
       "      <td>15.829407</td>\n",
       "      <td>11.318877</td>\n",
       "      <td>6.808435</td>\n",
       "      <td>9.801006</td>\n",
       "      <td>1.201919</td>\n",
       "    </tr>\n",
       "    <tr>\n",
       "      <th>8862</th>\n",
       "      <td>2020</td>\n",
       "      <td>155.1</td>\n",
       "      <td>55081</td>\n",
       "      <td>17.028700</td>\n",
       "      <td>25.753994</td>\n",
       "      <td>402.307727</td>\n",
       "      <td>0.410045</td>\n",
       "      <td>0.600312</td>\n",
       "      <td>3.785952</td>\n",
       "      <td>-0.000155</td>\n",
       "      <td>3.199670</td>\n",
       "      <td>17.723286</td>\n",
       "      <td>11.884950</td>\n",
       "      <td>6.046695</td>\n",
       "      <td>12.610834</td>\n",
       "      <td>0.686905</td>\n",
       "    </tr>\n",
       "    <tr>\n",
       "      <th>8863</th>\n",
       "      <td>2020</td>\n",
       "      <td>191.7</td>\n",
       "      <td>55079</td>\n",
       "      <td>13.831828</td>\n",
       "      <td>30.624655</td>\n",
       "      <td>397.769795</td>\n",
       "      <td>0.343558</td>\n",
       "      <td>0.528390</td>\n",
       "      <td>2.684892</td>\n",
       "      <td>-0.026583</td>\n",
       "      <td>3.338462</td>\n",
       "      <td>18.399728</td>\n",
       "      <td>12.818468</td>\n",
       "      <td>7.237298</td>\n",
       "      <td>13.848461</td>\n",
       "      <td>1.188034</td>\n",
       "    </tr>\n",
       "  </tbody>\n",
       "</table>\n",
       "<p>8864 rows × 16 columns</p>\n",
       "</div>"
      ],
      "text/plain": [
       "      Year  Yield  GEOID  AWC Average  CEC Average  OCD Average  EVI Average  \\\n",
       "0     2010  130.0   5063    14.546161    19.094277   256.464574     0.351410   \n",
       "1     2010  150.0   5067    14.754726    19.042175   222.711286     0.340833   \n",
       "2     2010  130.0   5121    14.690079    19.121303   244.529345     0.348775   \n",
       "3     2010  166.0   5093    14.101840    20.899450   230.774988     0.333715   \n",
       "4     2010  143.0   5095    14.654235    20.037244   246.662318     0.367096   \n",
       "...    ...    ...    ...          ...          ...          ...          ...   \n",
       "8859  2020  162.2  55117    16.245889    27.581528   404.975714     0.372817   \n",
       "8860  2020  150.8  55139    15.951065    29.215066   407.824897     0.360200   \n",
       "8861  2020  125.3  55029    17.316416    24.363932   464.062694     0.372681   \n",
       "8862  2020  155.1  55081    17.028700    25.753994   402.307727     0.410045   \n",
       "8863  2020  191.7  55079    13.831828    30.624655   397.769795     0.343558   \n",
       "\n",
       "      NDVI Average  GCI Average  NDWI Average  PPT Average  MaxT Average  \\\n",
       "0         0.516680     2.728479     -0.076958     3.035817     26.840109   \n",
       "1         0.486366     2.523245     -0.055194     3.003970     26.779713   \n",
       "2         0.494331     2.662388     -0.051745     2.993533     26.222520   \n",
       "3         0.463979     2.525566     -0.065515     2.860128     27.062886   \n",
       "4         0.518080     2.834970     -0.051252     2.693002     27.435930   \n",
       "...            ...          ...           ...          ...           ...   \n",
       "8859      0.553292     3.119724      0.002781     3.326646     17.271363   \n",
       "8860      0.540196     3.171092     -0.005588     3.081543     17.825263   \n",
       "8861      0.565959     3.166413      0.013161     3.263782     15.829407   \n",
       "8862      0.600312     3.785952     -0.000155     3.199670     17.723286   \n",
       "8863      0.528390     2.684892     -0.026583     3.338462     18.399728   \n",
       "\n",
       "      MeanT Average  MinT Average  vpdMax Average  vpdMin Average  \n",
       "0         20.497388     14.155641       21.270887        2.055908  \n",
       "1         20.784387     14.790069       20.337962        1.731717  \n",
       "2         20.029503     13.837489       19.318879        1.254584  \n",
       "3         21.059436     15.056977       21.541121        2.095595  \n",
       "4         21.460487     15.486050       22.161051        2.167383  \n",
       "...             ...           ...             ...             ...  \n",
       "8859      12.294380      7.317488       11.202002        0.819337  \n",
       "8860      12.678469      7.531764       12.746860        1.220882  \n",
       "8861      11.318877      6.808435        9.801006        1.201919  \n",
       "8862      11.884950      6.046695       12.610834        0.686905  \n",
       "8863      12.818468      7.237298       13.848461        1.188034  \n",
       "\n",
       "[8864 rows x 16 columns]"
      ]
     },
     "execution_count": 2,
     "metadata": {},
     "output_type": "execute_result"
    }
   ],
   "source": [
    "data=pd.read_excel('/Users/nickstatz/Desktop/CornYield/ALLDATA.xlsx')\n",
    "data"
   ]
  },
  {
   "cell_type": "code",
   "execution_count": 3,
   "id": "96c31a66",
   "metadata": {},
   "outputs": [],
   "source": [
    "Soil=['AWC Average','CEC Average','OCD Average']\n",
    "Sat=['EVI Average','NDVI Average','GCI Average','NDWI Average']\n",
    "Clim=['PPT Average','MaxT Average','MeanT Average','MinT Average','vpdMax Average','vpdMin Average']\n"
   ]
  },
  {
   "cell_type": "markdown",
   "id": "1bed7f79",
   "metadata": {},
   "source": [
    "## Define x and y"
   ]
  },
  {
   "cell_type": "code",
   "execution_count": 4,
   "id": "9488d243",
   "metadata": {},
   "outputs": [],
   "source": [
    "x=data[Soil+Sat+Clim].values #Change Based on Desired Variables\n",
    "y=data['Yield'].values"
   ]
  },
  {
   "cell_type": "code",
   "execution_count": 5,
   "id": "c289c32d",
   "metadata": {},
   "outputs": [
    {
     "data": {
      "text/plain": [
       "Year               2019.000000\n",
       "Yield               156.800000\n",
       "GEOID             55081.000000\n",
       "AWC Average          16.742846\n",
       "CEC Average          25.961521\n",
       "OCD Average         393.139227\n",
       "EVI Average           0.406946\n",
       "NDVI Average          0.590073\n",
       "GCI Average           3.638276\n",
       "NDWI Average         -0.004499\n",
       "PPT Average           3.737796\n",
       "MaxT Average         16.304242\n",
       "MeanT Average        10.890556\n",
       "MinT Average          5.476921\n",
       "vpdMax Average       12.610834\n",
       "vpdMin Average        0.686905\n",
       "Name: 7971, dtype: float64"
      ]
     },
     "execution_count": 5,
     "metadata": {},
     "output_type": "execute_result"
    }
   ],
   "source": [
    "#Find first 2020 row: 7972\n",
    "data.iloc[7971,:]"
   ]
  },
  {
   "cell_type": "code",
   "execution_count": 6,
   "id": "2d1bfa01",
   "metadata": {},
   "outputs": [
    {
     "data": {
      "text/plain": [
       "array([ 1.67428465e+01,  2.59615210e+01,  3.93139227e+02,  4.06946228e-01,\n",
       "        5.90072645e-01,  3.63827632e+00, -4.49862777e-03,  3.73779635e+00,\n",
       "        1.63042417e+01,  1.08905556e+01,  5.47692145e+00,  1.26108343e+01,\n",
       "        6.86904790e-01])"
      ]
     },
     "execution_count": 6,
     "metadata": {},
     "output_type": "execute_result"
    }
   ],
   "source": [
    "x[7971]"
   ]
  },
  {
   "cell_type": "markdown",
   "id": "17336a45",
   "metadata": {},
   "source": [
    "## Split Data Set in Training Set and Test Set"
   ]
  },
  {
   "cell_type": "code",
   "execution_count": 7,
   "id": "e0dd855e",
   "metadata": {},
   "outputs": [],
   "source": [
    "from sklearn.model_selection import train_test_split\n",
    "x_train,x_test,y_train,y_test=train_test_split(x,y,train_size=7971,random_state=0,shuffle=False) \n",
    "#Training size from finding start of 2020 data index"
   ]
  },
  {
   "cell_type": "markdown",
   "id": "778ab22d",
   "metadata": {},
   "source": [
    "## Train the Model on the Training Set"
   ]
  },
  {
   "cell_type": "code",
   "execution_count": 8,
   "id": "1e4db2fd",
   "metadata": {},
   "outputs": [
    {
     "data": {
      "text/plain": [
       "LinearRegression()"
      ]
     },
     "execution_count": 8,
     "metadata": {},
     "output_type": "execute_result"
    }
   ],
   "source": [
    "from sklearn.linear_model import LinearRegression\n",
    "ml=LinearRegression()\n",
    "ml.fit(x_train,y_train)"
   ]
  },
  {
   "cell_type": "markdown",
   "id": "3f25d7a8",
   "metadata": {},
   "source": [
    "## Predict Test Set Results"
   ]
  },
  {
   "cell_type": "code",
   "execution_count": 9,
   "id": "28f498ff",
   "metadata": {},
   "outputs": [],
   "source": [
    "y_pred=ml.predict(x_test)\n",
    "#print(y_pred)"
   ]
  },
  {
   "cell_type": "code",
   "execution_count": 10,
   "id": "d99d1915",
   "metadata": {},
   "outputs": [
    {
     "data": {
      "text/plain": [
       "0.7156559263516649"
      ]
     },
     "execution_count": 10,
     "metadata": {},
     "output_type": "execute_result"
    }
   ],
   "source": [
    "ml.score(x_train,y_train)"
   ]
  },
  {
   "cell_type": "code",
   "execution_count": 11,
   "id": "71c9952a",
   "metadata": {},
   "outputs": [
    {
     "data": {
      "text/plain": [
       "0.5559779932521847"
      ]
     },
     "execution_count": 11,
     "metadata": {},
     "output_type": "execute_result"
    }
   ],
   "source": [
    "ml.score(x_test,y_test)"
   ]
  },
  {
   "cell_type": "markdown",
   "id": "f0dce216",
   "metadata": {},
   "source": [
    "## Evaluate Model"
   ]
  },
  {
   "cell_type": "code",
   "execution_count": 12,
   "id": "f28bc06f",
   "metadata": {},
   "outputs": [
    {
     "name": "stdout",
     "output_type": "stream",
     "text": [
      "R2: 0.5559779932521847  RMSE: 20.927064234440746\n"
     ]
    }
   ],
   "source": [
    "from sklearn.metrics import r2_score\n",
    "from sklearn.metrics import mean_squared_error\n",
    "r2=r2_score(y_test,y_pred)\n",
    "RMSE=mean_squared_error(y_test,y_pred,squared=False)\n",
    "print('R2:',r2,' RMSE:',RMSE)"
   ]
  },
  {
   "cell_type": "markdown",
   "id": "1e467424",
   "metadata": {},
   "source": [
    "## Plot Results"
   ]
  },
  {
   "cell_type": "code",
   "execution_count": 13,
   "id": "fa3556a9",
   "metadata": {},
   "outputs": [
    {
     "data": {
      "image/png": "[encoded data removed]",
      "text/plain": [
       "<Figure size 1080x720 with 1 Axes>"
      ]
     },
     "metadata": {
      "needs_background": "light"
     },
     "output_type": "display_data"
    }
   ],
   "source": [
    "import matplotlib.pyplot as plt\n",
    "from scipy import stats\n",
    "plt.figure(figsize=(15,10))\n",
    "slope, intercept, r_value, p_value, std_err = stats.linregress(y_test,y_pred)\n",
    "line = slope*y_pred+intercept\n",
    "plt.plot(y_pred, line, 'b', label='y={:.2f}x+{:.2f}'.format(slope,intercept))\n",
    "plt.scatter(y_test,y_pred,color='r')\n",
    "plt.title('Predicted vs True Corn Yield')\n",
    "plt.xlabel('True Corn Yield (Bu/acre)')\n",
    "plt.ylabel('Predicted Corn Yield (Bu/acre)')\n",
    "plt.legend()\n",
    "plt.show\n",
    "plt.savefig(\"LinearSoil.jpeg\")"
   ]
  },
  {
   "cell_type": "markdown",
   "id": "605b29ad",
   "metadata": {},
   "source": [
    "## Predicted Values"
   ]
  },
  {
   "cell_type": "code",
   "execution_count": 14,
   "id": "0767689b",
   "metadata": {},
   "outputs": [],
   "source": [
    "#pred_y_df=pd.DataFrame({'Actual Value':y_test,'Predicted Value':y_pred, 'Difference':y_test-y_pred})\n",
    "#pred_y_df[0:20]\n",
    "#pred_y_df.to_excel('MultipleLinearRegressionDif.xlsx')"
   ]
  },
  {
   "cell_type": "code",
   "execution_count": null,
   "id": "1ca62ed0",
   "metadata": {},
   "outputs": [],
   "source": []
  }
 ],
 "metadata": {
  "kernelspec": {
   "display_name": "Python 3",
   "language": "python",
   "name": "python3"
  },
  "language_info": {
   "codemirror_mode": {
    "name": "ipython",
    "version": 3
   },
   "file_extension": ".py",
   "mimetype": "text/x-python",
   "name": "python",
   "nbconvert_exporter": "python",
   "pygments_lexer": "ipython3",
   "version": "3.8.8"
  }
 },
 "nbformat": 4,
 "nbformat_minor": 5
}
