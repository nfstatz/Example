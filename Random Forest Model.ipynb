{
 "cells": [
  {
   "cell_type": "code",
   "execution_count": 1,
   "id": "aa0553a0",
   "metadata": {},
   "outputs": [],
   "source": [
    "# import necessary libraries and data\n",
    "from sklearn import tree\n",
    "import pandas as pd\n",
    "import numpy as np\n",
    "from sklearn.ensemble import RandomForestClassifier\n",
    "from sklearn.ensemble import RandomForestRegressor\n",
    "import matplotlib.pyplot as plt\n",
    "from sklearn.model_selection import cross_val_score\n",
    "total_data=pd.read_excel('/Users/nickstatz/Desktop/CornYield/ALLDATA.xlsx')\n",
    "Soil=['AWC Average','CEC Average','OCD Average']\n",
    "Sat=['EVI Average','NDVI Average','GCI Average','NDWI Average']\n",
    "Clim=['PPT Average','MaxT Average','MeanT Average','MinT Average','vpdMax Average','vpdMin Average']"
   ]
  },
  {
   "cell_type": "code",
   "execution_count": 2,
   "id": "cbb825f1",
   "metadata": {},
   "outputs": [],
   "source": [
    "#split data frame into 2010-2019 and 2020\n",
    "groups = total_data.groupby('Year')\n",
    "test = groups.get_group(2020)\n",
    "#find where 2020 starts FOUND 7976 is first 2020 value from print(total_data.loc[[7975]])\n",
    "train = total_data.drop(total_data.index[7971:8864],axis=0,inplace=False)"
   ]
  },
  {
   "cell_type": "code",
   "execution_count": 3,
   "id": "ff31ad1c",
   "metadata": {},
   "outputs": [],
   "source": [
    "# now 2010-2019 is under train and 2020 is under test\n",
    "x_train_features=train[Soil+Sat+Clim].values #x values to train on\n",
    "y_train_labels=train['Yield'].values                                                     #y values to train on\n",
    "x_test_features=test[Soil+Sat+Clim].values   #x values to test on\n",
    "y_test_labels=test['Yield'].values   #true y values to test on\n"
   ]
  },
  {
   "cell_type": "code",
   "execution_count": 4,
   "id": "b5a6e63a",
   "metadata": {},
   "outputs": [
    {
     "name": "stdout",
     "output_type": "stream",
     "text": [
      "Training Features Shape: (7971, 13)\n",
      "Training Labels Shape: (7971,)\n",
      "Testing Features Shape: (892, 13)\n",
      "Testing Labels Shape: (892,)\n"
     ]
    }
   ],
   "source": [
    "# Features are x , Targets (labels) are y\n",
    "print('Training Features Shape:', x_train_features.shape)\n",
    "print('Training Labels Shape:', y_train_labels.shape)\n",
    "print('Testing Features Shape:', x_test_features.shape)\n",
    "print('Testing Labels Shape:', y_test_labels.shape)"
   ]
  },
  {
   "cell_type": "code",
   "execution_count": 5,
   "id": "d68a4215",
   "metadata": {},
   "outputs": [
    {
     "data": {
      "text/plain": [
       "RandomForestRegressor(n_estimators=1000, random_state=0)"
      ]
     },
     "execution_count": 5,
     "metadata": {},
     "output_type": "execute_result"
    }
   ],
   "source": [
    "# Train Model\n",
    "rf = RandomForestRegressor(n_estimators = 1000, random_state = 0)\n",
    "rf.fit(x_train_features, y_train_labels)"
   ]
  },
  {
   "cell_type": "markdown",
   "id": "68897728",
   "metadata": {},
   "source": [
    "## Baseline"
   ]
  },
  {
   "cell_type": "code",
   "execution_count": 6,
   "id": "1eb996fa",
   "metadata": {},
   "outputs": [
    {
     "name": "stdout",
     "output_type": "stream",
     "text": [
      "R2: 0.7650175191110851 RMSE: 15.231545591157712  MAE: 11.34986479820627 MAPE: 0.07670610498231695 Accuracy: 99.92 %.\n"
     ]
    }
   ],
   "source": [
    "# Use the forest's predict method on the test data\n",
    "predictions = rf.predict(x_test_features)\n",
    "# Use Mean Squared Function\n",
    "from sklearn.metrics import mean_squared_error\n",
    "RMSE= mean_squared_error(y_test_labels, predictions, squared=False)\n",
    "# Use Absolute Error\n",
    "from sklearn.metrics import mean_absolute_error\n",
    "MAE=mean_absolute_error(y_test_labels, predictions)\n",
    "from sklearn.metrics import mean_absolute_percentage_error\n",
    "MAPE=mean_absolute_percentage_error(y_test_labels, predictions)\n",
    "accuracy = 100 - np.mean(MAPE)\n",
    "from sklearn.metrics import r2_score\n",
    "r2=r2_score(y_test_labels, predictions)\n",
    "\n",
    "print('R2:',r2,'RMSE:', RMSE, ' MAE:',MAE, 'MAPE:',MAPE,'Accuracy:', round(accuracy, 2), '%.')"
   ]
  },
  {
   "cell_type": "markdown",
   "id": "ba6082f3",
   "metadata": {},
   "source": [
    "## Hypertune"
   ]
  },
  {
   "cell_type": "code",
   "execution_count": 7,
   "id": "d7cf4046",
   "metadata": {},
   "outputs": [
    {
     "name": "stdout",
     "output_type": "stream",
     "text": [
      "{'bootstrap': [True, False],\n",
      " 'max_depth': [10, 20, 30, 40, 50, 60, 70, 80, 90, 100, 110, None],\n",
      " 'max_features': ['auto', 'sqrt'],\n",
      " 'min_samples_leaf': [1, 2, 4],\n",
      " 'min_samples_split': [2, 5, 10],\n",
      " 'n_estimators': [200, 400, 600, 800, 1000, 1200, 1400, 1600, 1800, 2000]}\n"
     ]
    }
   ],
   "source": [
    "from sklearn.model_selection import RandomizedSearchCV\n",
    "from pprint import pprint\n",
    "# Number of trees in random forest\n",
    "n_estimators = [int(x) for x in np.linspace(start = 200, stop = 2000, num = 10)]\n",
    "# Number of features to consider at every split\n",
    "max_features = ['auto', 'sqrt']\n",
    "# Maximum number of levels in tree\n",
    "max_depth = [int(x) for x in np.linspace(10, 110, num = 11)]\n",
    "max_depth.append(None)\n",
    "# Minimum number of samples required to split a node\n",
    "min_samples_split = [2, 5, 10]\n",
    "# Minimum number of samples required at each leaf node\n",
    "min_samples_leaf = [1, 2, 4]\n",
    "# Method of selecting samples for training each tree\n",
    "bootstrap = [True, False]\n",
    "# Create the random grid\n",
    "random_grid = {'n_estimators': n_estimators,\n",
    "               'max_features': max_features,\n",
    "               'max_depth': max_depth,\n",
    "               'min_samples_split': min_samples_split,\n",
    "               'min_samples_leaf': min_samples_leaf,\n",
    "               'bootstrap': bootstrap}\n",
    "pprint(random_grid)"
   ]
  },
  {
   "cell_type": "markdown",
   "id": "3b468464",
   "metadata": {},
   "source": [
    "## Random Parameters"
   ]
  },
  {
   "cell_type": "code",
   "execution_count": 8,
   "id": "a24a2c44",
   "metadata": {},
   "outputs": [
    {
     "name": "stdout",
     "output_type": "stream",
     "text": [
      "Fitting 3 folds for each of 100 candidates, totalling 300 fits\n"
     ]
    },
    {
     "data": {
      "text/plain": [
       "{'n_estimators': 400,\n",
       " 'min_samples_split': 2,\n",
       " 'min_samples_leaf': 1,\n",
       " 'max_features': 'auto',\n",
       " 'max_depth': 100,\n",
       " 'bootstrap': True}"
      ]
     },
     "execution_count": 8,
     "metadata": {},
     "output_type": "execute_result"
    }
   ],
   "source": [
    "# Use the random grid to search for best hyperparameters\n",
    "# First create the base model to tune\n",
    "rf = RandomForestRegressor()\n",
    "# Random search of parameters, using 3 fold cross validation, \n",
    "# search across 100 different combinations, and use all available cores\n",
    "rf_random = RandomizedSearchCV(estimator = rf, param_distributions = random_grid, n_iter = 100, cv = 3, verbose=2, random_state=0, n_jobs = -1)\n",
    "# Fit the random search model\n",
    "rf_random.fit(x_train_features, y_train_labels)\n",
    "rf_random.best_params_"
   ]
  },
  {
   "cell_type": "code",
   "execution_count": 9,
   "id": "d47a2114",
   "metadata": {},
   "outputs": [],
   "source": [
    "random_regressor = RandomForestRegressor(**rf_random.best_params_)\n",
    "random_regressor.fit(x_train_features,y_train_labels)\n",
    "random_y_pred = random_regressor.predict(x_test_features)"
   ]
  },
  {
   "cell_type": "code",
   "execution_count": 10,
   "id": "a8ac0263",
   "metadata": {},
   "outputs": [
    {
     "name": "stdout",
     "output_type": "stream",
     "text": [
      "R2= 0.7640177383880227  RMSE= 15.263914051351328  MAE: 11.396125560538122 MAPE: 0.07712919738189618 Accuracy: 99.92 %.\n"
     ]
    }
   ],
   "source": [
    "from sklearn.metrics import mean_squared_error\n",
    "from sklearn.metrics import r2_score\n",
    "from sklearn.metrics import mean_absolute_error\n",
    "from sklearn.metrics import mean_absolute_percentage_error\n",
    "RMSE=mean_squared_error(y_test_labels, random_y_pred,squared=False) \n",
    "R2=r2_score(y_test_labels, random_y_pred)\n",
    "MAE=mean_absolute_error(y_test_labels, random_y_pred)\n",
    "MAPE=mean_absolute_percentage_error(y_test_labels, random_y_pred)\n",
    "accuracy = 100 - np.mean(MAPE)\n",
    "print('R2=',R2,' RMSE=',RMSE, ' MAE:',MAE, 'MAPE:',MAPE,'Accuracy:', round(accuracy, 2), '%.')"
   ]
  },
  {
   "cell_type": "markdown",
   "id": "fe150a93",
   "metadata": {},
   "source": [
    "## Best Parameters"
   ]
  },
  {
   "cell_type": "code",
   "execution_count": 21,
   "id": "630780a2",
   "metadata": {},
   "outputs": [],
   "source": [
    "from sklearn.model_selection import GridSearchCV\n",
    "# Create the parameter grid based on the results of random search \n",
    "param_grid = {\n",
    "    'bootstrap': [True],\n",
    "    'max_depth': [90,100,110],\n",
    "    'max_features': ['auto'],\n",
    "    'min_samples_leaf': [1,2],\n",
    "    'min_samples_split': [ 2, 3],\n",
    "    'n_estimators': [300, 400, 500 ]\n",
    "}\n",
    "# Create a based model\n",
    "rf = RandomForestRegressor()\n",
    "# Instantiate the grid search model\n",
    "grid_search = GridSearchCV(estimator = rf, param_grid = param_grid, \n",
    "                          cv = 3, n_jobs = -1, verbose = 2)"
   ]
  },
  {
   "cell_type": "code",
   "execution_count": 22,
   "id": "242d945e",
   "metadata": {},
   "outputs": [
    {
     "name": "stdout",
     "output_type": "stream",
     "text": [
      "Fitting 3 folds for each of 36 candidates, totalling 108 fits\n",
      "{'bootstrap': True, 'max_depth': 90, 'max_features': 'auto', 'min_samples_leaf': 1, 'min_samples_split': 2, 'n_estimators': 300}\n"
     ]
    }
   ],
   "source": [
    "# Fit the grid search to the data\n",
    "grid_search.fit(x_train_features, y_train_labels)\n",
    "grid_search.best_params_\n",
    "print(grid_search.best_params_)"
   ]
  },
  {
   "cell_type": "code",
   "execution_count": 23,
   "id": "468ada3e",
   "metadata": {},
   "outputs": [],
   "source": [
    "best_regressor = RandomForestRegressor(**grid_search.best_params_)\n",
    "#**grid_search.best_params_\n",
    "best_regressor.fit(x_train_features,y_train_labels)\n",
    "best_y_pred = best_regressor.predict(x_test_features)"
   ]
  },
  {
   "cell_type": "code",
   "execution_count": 24,
   "id": "8dce7d86",
   "metadata": {},
   "outputs": [
    {
     "name": "stdout",
     "output_type": "stream",
     "text": [
      "R2= 0.7651420164114724  RMSE= 15.227510104051271  MAE: 11.383164050822126 MAPE: 0.07690730922724928 Accuracy: 99.92 %.\n"
     ]
    }
   ],
   "source": [
    "from sklearn.metrics import mean_squared_error\n",
    "from sklearn.metrics import r2_score\n",
    "from sklearn.metrics import mean_absolute_error\n",
    "from sklearn.metrics import mean_absolute_percentage_error\n",
    "RMSE=mean_squared_error(y_test_labels, best_y_pred,squared=False) \n",
    "R2=r2_score(y_test_labels, best_y_pred)\n",
    "MAE=mean_absolute_error(y_test_labels, best_y_pred)\n",
    "MAPE=mean_absolute_percentage_error(y_test_labels, best_y_pred)\n",
    "accuracy = 100 - np.mean(MAPE)\n",
    "print('R2=',R2,' RMSE=',RMSE, ' MAE:',MAE, 'MAPE:',MAPE,'Accuracy:', round(accuracy, 2), '%.')"
   ]
  },
  {
   "cell_type": "markdown",
   "id": "35e0dd9b",
   "metadata": {},
   "source": [
    "## Plot "
   ]
  },
  {
   "cell_type": "code",
   "execution_count": 28,
   "id": "bac3dad1",
   "metadata": {},
   "outputs": [
    {
     "data": {
      "image/png": "[encoded data removed]",
      "text/plain": [
       "<Figure size 1080x720 with 1 Axes>"
      ]
     },
     "metadata": {
      "needs_background": "light"
     },
     "output_type": "display_data"
    }
   ],
   "source": [
    "import matplotlib.pyplot as plt\n",
    "from scipy import stats\n",
    "plt.figure(figsize=(15,10))\n",
    "slope, intercept, r_value, p_value, std_err = stats.linregress(y_test_labels,best_y_pred)\n",
    "line = slope*best_y_pred+intercept\n",
    "plt.plot(best_y_pred, line, 'r', label='y={:.2f}x+{:.2f}'.format(slope,intercept))\n",
    "plt.scatter(y_test_labels,best_y_pred)\n",
    "plt.title('Predicted vs True Corn Yield')\n",
    "plt.xlabel('True Corn Yield (Bu/acre)')\n",
    "plt.ylabel('Predicted Corn Yield (Bu/acre)')\n",
    "plt.legend()\n",
    "plt.show\n",
    "plt.savefig(\"ForestBestSatSoilClim.jpeg\")"
   ]
  },
  {
   "cell_type": "code",
   "execution_count": 29,
   "id": "c1c4818f",
   "metadata": {},
   "outputs": [],
   "source": [
    "pred_y_df=pd.DataFrame({Actual Value':y_test_labels,'Predicted Value':best_y_pred, 'Difference':y_test_labels-predictions})\n",
    "pred_y_df[0:20]\n",
    "pred_y_df.to_excel('RandomForestBestDif.xlsx')"
   ]
  },
  {
   "cell_type": "code",
   "execution_count": 32,
   "id": "6f50df67",
   "metadata": {},
   "outputs": [
    {
     "name": "stdout",
     "output_type": "stream",
     "text": [
      "Variable: GCI Average          Importance: 0.47\n",
      "Variable: NDVI Average         Importance: 0.17\n",
      "Variable: NDWI Average         Importance: 0.07\n",
      "Variable: CEC Average          Importance: 0.04\n",
      "Variable: MaxT Average         Importance: 0.04\n",
      "Variable: AWC Average          Importance: 0.03\n",
      "Variable: OCD Average          Importance: 0.03\n",
      "Variable: PPT Average          Importance: 0.03\n",
      "Variable: EVI Average          Importance: 0.02\n",
      "Variable: MeanT Average        Importance: 0.02\n",
      "Variable: MinT Average         Importance: 0.02\n",
      "Variable: vpdMax Average       Importance: 0.02\n",
      "Variable: vpdMin Average       Importance: 0.02\n"
     ]
    }
   ],
   "source": [
    "# Get numerical feature importances\n",
    "importances = list(best_regressor.feature_importances_)\n",
    "# List of tuples with variable and importance\n",
    "feature_importances = [(feature, round(importance, 2)) for feature, importance in zip(['AWC Average','CEC Average','OCD Average','EVI Average','NDVI Average','GCI Average','NDWI Average','PPT Average','MaxT Average','MeanT Average','MinT Average','vpdMax Average','vpdMin Average'], importances)]\n",
    "# Sort the feature importances by most important first\n",
    "feature_importances = sorted(feature_importances, key = lambda x: x[1], reverse = True)\n",
    "# Print out the feature and importances \n",
    "[print('Variable: {:20} Importance: {}'.format(*pair)) for pair in feature_importances];"
   ]
  },
  {
   "cell_type": "code",
   "execution_count": null,
   "id": "0b9288d5",
   "metadata": {},
   "outputs": [],
   "source": []
  },
  {
   "cell_type": "code",
   "execution_count": null,
   "id": "6102f0f9",
   "metadata": {},
   "outputs": [],
   "source": []
  },
  {
   "cell_type": "code",
   "execution_count": null,
   "id": "b031ec60",
   "metadata": {},
   "outputs": [],
   "source": []
  }
 ],
 "metadata": {
  "kernelspec": {
   "display_name": "Python 3",
   "language": "python",
   "name": "python3"
  },
  "language_info": {
   "codemirror_mode": {
    "name": "ipython",
    "version": 3
   },
   "file_extension": ".py",
   "mimetype": "text/x-python",
   "name": "python",
   "nbconvert_exporter": "python",
   "pygments_lexer": "ipython3",
   "version": "3.8.8"
  }
 },
 "nbformat": 4,
 "nbformat_minor": 5
}
